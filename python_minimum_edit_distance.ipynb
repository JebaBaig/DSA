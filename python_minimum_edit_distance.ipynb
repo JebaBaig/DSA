{
  "cells": [
    {
      "cell_type": "markdown",
      "metadata": {
        "id": "view-in-github",
        "colab_type": "text"
      },
      "source": [
        "<a href=\"https://colab.research.google.com/github/JebaBaig/Demo-repo/blob/main/python_minimum_edit_distance.ipynb\" target=\"_parent\"><img src=\"https://colab.research.google.com/assets/colab-badge.svg\" alt=\"Open In Colab\"/></a>"
      ]
    },
    {
      "cell_type": "code",
      "execution_count": null,
      "id": "e15b7eb8",
      "metadata": {
        "id": "e15b7eb8"
      },
      "outputs": [],
      "source": [
        "# Jovian Commit Essentials\n",
        "# Please retain and execute this cell without modifying the contents for `jovian.commit` to work\n",
        "!pip install jovian --upgrade -q\n",
        "import jovian\n",
        "jovian.set_project('python-minimum-edit-distance')\n",
        "jovian.set_colab_id('1snGSTfapZz8PXIpNNlbHi5tA2co-rfw8')"
      ]
    },
    {
      "cell_type": "markdown",
      "id": "informational-woman",
      "metadata": {
        "id": "informational-woman"
      },
      "source": [
        "## Minimum Edit Distance\n",
        "\n",
        "The following interview was asked during a coding interview at Google:\n",
        "\n",
        "> Given two strings A and B, find the minimum number of steps required to convert A to B. (each operation is counted as 1 step.) You have the following 3 operations permitted on a word:\n",
        ">\n",
        "> * Insert a character\n",
        "> * Delete a character\n",
        "> * Replace a character\n",
        "\n",
        "Here's a visual representation (source: iDeserve)\n",
        "\n",
        "![](https://www.ideserve.co.in/learn/img/editDistance_0.gif)"
      ]
    },
    {
      "cell_type": "code",
      "execution_count": null,
      "id": "treated-management",
      "metadata": {
        "id": "treated-management"
      },
      "outputs": [],
      "source": [
        "# Solve the problem here"
      ]
    },
    {
      "cell_type": "code",
      "execution_count": null,
      "id": "nearby-class",
      "metadata": {
        "id": "nearby-class"
      },
      "outputs": [],
      "source": [
        "# Test the solution here"
      ]
    },
    {
      "cell_type": "code",
      "execution_count": null,
      "id": "cardiovascular-afghanistan",
      "metadata": {
        "id": "cardiovascular-afghanistan"
      },
      "outputs": [],
      "source": [
        ""
      ]
    },
    {
      "cell_type": "code",
      "execution_count": null,
      "id": "coordinate-demographic",
      "metadata": {
        "id": "coordinate-demographic"
      },
      "outputs": [],
      "source": [
        ""
      ]
    },
    {
      "cell_type": "code",
      "execution_count": null,
      "id": "pursuant-packaging",
      "metadata": {
        "id": "pursuant-packaging"
      },
      "outputs": [],
      "source": [
        "import jovian"
      ]
    },
    {
      "cell_type": "code",
      "execution_count": null,
      "id": "sonic-registrar",
      "metadata": {
        "id": "sonic-registrar",
        "outputId": "9e52ee43-11ed-4bbc-fc7d-f00baab0e468"
      },
      "outputs": [
        {
          "data": {
            "application/javascript": [
              "window.require && require([\"base/js/namespace\"],function(Jupyter){Jupyter.notebook.save_checkpoint()})"
            ],
            "text/plain": [
              "<IPython.core.display.Javascript object>"
            ]
          },
          "metadata": {},
          "output_type": "display_data"
        },
        {
          "name": "stdout",
          "output_type": "stream",
          "text": [
            "[jovian] Attempting to save notebook..\u001b[0m\n"
          ]
        }
      ],
      "source": [
        "jovian.commit()"
      ]
    },
    {
      "cell_type": "markdown",
      "id": "laden-packing",
      "metadata": {
        "id": "laden-packing"
      },
      "source": [
        "Brute force (recursion - exponential):"
      ]
    },
    {
      "cell_type": "code",
      "execution_count": null,
      "id": "magnetic-glory",
      "metadata": {
        "id": "magnetic-glory"
      },
      "outputs": [],
      "source": [
        "def min_edit_distance(str1, str2, i1=0, i2=0):\n",
        "    if i1 == len(str1):\n",
        "        return len(str2) - i2\n",
        "    if i2 == len(str2):\n",
        "        return len(str1) - i1\n",
        "    if str1[i1] == str2[i2]:\n",
        "        return min_edit_distance(str1, str2, i1+1, i2+1)\n",
        "    return 1 + min(min_edit_distance(str1, str2, i1, i2+1), # Insert at beginning of str1\n",
        "                   min_edit_distance(str1, str2, i1+1, i2), # Remove from beginning of str1\n",
        "                   min_edit_distance(str1, str2, i1+1, i2+1)) # Swap first character of str1\n",
        "        "
      ]
    },
    {
      "cell_type": "code",
      "execution_count": null,
      "id": "veterinary-effectiveness",
      "metadata": {
        "id": "veterinary-effectiveness",
        "outputId": "e0f408f3-4073-46e6-d007-97f71f75cd44"
      },
      "outputs": [
        {
          "data": {
            "text/plain": [
              "5"
            ]
          },
          "execution_count": 13,
          "metadata": {},
          "output_type": "execute_result"
        }
      ],
      "source": [
        "min_edit_distance('wednesday', 'thursday')"
      ]
    },
    {
      "cell_type": "code",
      "execution_count": null,
      "id": "beautiful-moral",
      "metadata": {
        "id": "beautiful-moral",
        "outputId": "fcea7fe6-9308-498d-c99b-4d2103f4a5bc"
      },
      "outputs": [
        {
          "data": {
            "text/plain": [
              "5"
            ]
          },
          "execution_count": 12,
          "metadata": {},
          "output_type": "execute_result"
        }
      ],
      "source": [
        "min_edit_distance('intention', 'execution')"
      ]
    },
    {
      "cell_type": "markdown",
      "id": "smart-henry",
      "metadata": {
        "id": "smart-henry"
      },
      "source": [
        "Improved (memoization - $O(n_1*n_2)$):"
      ]
    },
    {
      "cell_type": "code",
      "execution_count": null,
      "id": "lovely-artwork",
      "metadata": {
        "id": "lovely-artwork"
      },
      "outputs": [],
      "source": [
        "def min_edit_distance2(str1, str2):\n",
        "    memo = {}\n",
        "    def recurse(i1, i2):\n",
        "        key = (i1, i2)\n",
        "        if key in memo:\n",
        "            return memo[key]\n",
        "        elif i1 == len(str1):\n",
        "            memo[key] = len(str2) - i2\n",
        "        elif i2 == len(str2):\n",
        "            memo[key] = len(str1) - i1\n",
        "        elif str1[i1] == str2[i2]:\n",
        "            memo[key] = recurse(i1+1, i2+1)\n",
        "        else:\n",
        "            memo[key] = 1 + min(recurse(i1, i2+1), \n",
        "                                recurse(i1+1, i2), \n",
        "                                recurse(i1+1, i2+1))\n",
        "        return memo[key]\n",
        "    return recurse(0, 0)"
      ]
    },
    {
      "cell_type": "code",
      "execution_count": null,
      "id": "detailed-variance",
      "metadata": {
        "id": "detailed-variance",
        "outputId": "6687011b-739e-4601-a959-1d61f8e22d49"
      },
      "outputs": [
        {
          "data": {
            "text/plain": [
              "5"
            ]
          },
          "execution_count": 25,
          "metadata": {},
          "output_type": "execute_result"
        }
      ],
      "source": [
        "min_edit_distance2('intention', 'execution')"
      ]
    },
    {
      "cell_type": "markdown",
      "id": "lasting-grove",
      "metadata": {
        "id": "lasting-grove"
      },
      "source": [
        "Best (Dynamic programming - $O(n_1*n_2)$):"
      ]
    },
    {
      "cell_type": "code",
      "execution_count": null,
      "id": "pleased-steering",
      "metadata": {
        "id": "pleased-steering"
      },
      "outputs": [],
      "source": [
        "# left as an exercise"
      ]
    },
    {
      "cell_type": "code",
      "execution_count": null,
      "id": "intellectual-shield",
      "metadata": {
        "id": "intellectual-shield"
      },
      "outputs": [],
      "source": [
        ""
      ]
    }
  ],
  "metadata": {
    "kernelspec": {
      "display_name": "Python 3",
      "language": "python",
      "name": "python3"
    },
    "language_info": {
      "codemirror_mode": {
        "name": "ipython",
        "version": 3
      },
      "file_extension": ".py",
      "mimetype": "text/x-python",
      "name": "python",
      "nbconvert_exporter": "python",
      "pygments_lexer": "ipython3",
      "version": "3.6.12"
    },
    "colab": {
      "name": "python-minimum-edit-distance.ipynb",
      "provenance": [],
      "include_colab_link": true
    }
  },
  "nbformat": 4,
  "nbformat_minor": 5
}