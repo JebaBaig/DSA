{
  "cells": [
    {
      "cell_type": "markdown",
      "metadata": {
        "id": "view-in-github",
        "colab_type": "text"
      },
      "source": [
        "<a href=\"https://colab.research.google.com/github/JebaBaig/Demo-repo/blob/main/python_problem_solving_template.ipynb\" target=\"_parent\"><img src=\"https://colab.research.google.com/assets/colab-badge.svg\" alt=\"Open In Colab\"/></a>"
      ]
    },
    {
      "cell_type": "code",
      "execution_count": null,
      "id": "ca3a1366",
      "metadata": {
        "id": "ca3a1366"
      },
      "outputs": [],
      "source": [
        "# Jovian Commit Essentials\n",
        "# Please retain and execute this cell without modifying the contents for `jovian.commit` to work\n",
        "!pip install jovian --upgrade -q\n",
        "import jovian\n",
        "jovian.set_project('python-problem-solving-template')\n",
        "jovian.set_colab_id('1rK0TbKIWOPrHX4KfnLO-fWWasSNpy6rG')"
      ]
    },
    {
      "cell_type": "markdown",
      "id": "7c6a2afc",
      "metadata": {
        "id": "7c6a2afc"
      },
      "source": [
        "# Problem Solving Template (change the title)\n",
        "\n",
        "_To learn how to use this template, check out the course [\"Data Structures and Algorithms in Python\"](https://jovian.ai/learn/data-structures-and-algorithms-in-python)._\n",
        "\n",
        "\n"
      ]
    },
    {
      "cell_type": "markdown",
      "id": "5494342a",
      "metadata": {
        "id": "5494342a"
      },
      "source": [
        "## How to run the code and save your work\n",
        "\n",
        "The recommended way to run this notebook is to click the \"Run\" button at the top of this page, and select \"Run on Binder\". This will run the notebook on [mybinder.org](https://mybinder.org), a free online service for running Jupyter notebooks. \n",
        "\n",
        "This tutorial is an executable [Jupyter notebook](https://jupyter.org). You can _run_ this tutorial and experiment with the code examples in a couple of ways: *using free online resources* (recommended) or *on your computer*.\n",
        "\n",
        "#### Option 1: Running using free online resources (1-click, recommended)\n",
        "\n",
        "The easiest way to start executing the code is to click the **Run** button at the top of this page and select **Run on Binder**. You can also select \"Run on Colab\" or \"Run on Kaggle\", but you'll need to create an account on [Google Colab](https://colab.research.google.com) or [Kaggle](https://kaggle.com) to use these platforms.\n",
        "\n",
        "\n",
        "#### Option 2: Running on your computer locally\n",
        "\n",
        "To run the code on your computer locally, you'll need to set up [Python](https://www.python.org), download the notebook and install the required libraries. We recommend using the [Conda](https://docs.conda.io/projects/conda/en/latest/user-guide/install/) distribution of Python. Click the **Run** button at the top of this page, select the **Run Locally** option, and follow the instructions.\n",
        "\n",
        "#### Saving your work\n",
        "\n",
        "Before staring the assignment, let's save a snapshot of the assignment to your [Jovian](https://jovian.ai) profile, so that you can access it later, and continue your work."
      ]
    },
    {
      "cell_type": "code",
      "execution_count": null,
      "id": "7290e53e",
      "metadata": {
        "id": "7290e53e"
      },
      "outputs": [],
      "source": [
        "project_name = ??? # give it an appropriate name"
      ]
    },
    {
      "cell_type": "code",
      "execution_count": null,
      "id": "b2607ed6",
      "metadata": {
        "id": "b2607ed6"
      },
      "outputs": [],
      "source": [
        "!pip install jovian --upgrade --quiet"
      ]
    },
    {
      "cell_type": "code",
      "execution_count": null,
      "id": "bf9563eb",
      "metadata": {
        "id": "bf9563eb"
      },
      "outputs": [],
      "source": [
        "import jovian"
      ]
    },
    {
      "cell_type": "code",
      "execution_count": null,
      "id": "abef25b2",
      "metadata": {
        "id": "abef25b2",
        "outputId": "b71144bc-ea6d-4800-c709-c74edc00483e"
      },
      "outputs": [
        {
          "data": {
            "application/javascript": [
              "window.require && require([\"base/js/namespace\"],function(Jupyter){Jupyter.notebook.save_checkpoint()})"
            ],
            "text/plain": [
              "<IPython.core.display.Javascript object>"
            ]
          },
          "metadata": {},
          "output_type": "display_data"
        },
        {
          "name": "stdout",
          "output_type": "stream",
          "text": [
            "[jovian] Attempting to save notebook..\u001b[0m\n",
            "[jovian] Updating notebook \"aakashns/python-problem-solving-template\" on https://jovian.ai/\u001b[0m\n",
            "[jovian] Uploading notebook..\u001b[0m\n",
            "[jovian] Capturing environment..\u001b[0m\n",
            "[jovian] Committed successfully! https://jovian.ai/aakashns/python-problem-solving-template\u001b[0m\n"
          ]
        },
        {
          "data": {
            "text/plain": [
              "'https://jovian.ai/aakashns/python-problem-solving-template'"
            ]
          },
          "execution_count": 9,
          "metadata": {},
          "output_type": "execute_result"
        }
      ],
      "source": [
        "jovian.commit(project=project_name)"
      ]
    },
    {
      "cell_type": "markdown",
      "id": "e31217fe",
      "metadata": {
        "id": "e31217fe"
      },
      "source": [
        "## Problem Statement\n",
        "\n",
        "\n",
        "> ??? (past the problem statement here)\n",
        "\n",
        "\n",
        "Source: ??? (link to the source)"
      ]
    },
    {
      "cell_type": "markdown",
      "id": "a84e65ef",
      "metadata": {
        "id": "a84e65ef"
      },
      "source": [
        "## The Method\n",
        "\n",
        "Here's the systematic strategy we'll apply for solving problems:\n",
        "\n",
        "1. State the problem clearly. Identify the input & output formats.\n",
        "2. Come up with some example inputs & outputs. Try to cover all edge cases.\n",
        "3. Come up with a correct solution for the problem. State it in plain English.\n",
        "4. Implement the solution and test it using example inputs. Fix bugs, if any.\n",
        "5. Analyze the algorithm's complexity and identify inefficiencies, if any.\n",
        "6. Apply the right technique to overcome the inefficiency. Repeat steps 3 to 6.\n",
        "\n",
        "This approach is explained in detail in [Lesson 1](https://jovian.ai/learn/data-structures-and-algorithms-in-python/lesson/lesson-1-binary-search-linked-lists-and-complexity) of the course. Let's apply this approach step-by-step."
      ]
    },
    {
      "cell_type": "markdown",
      "id": "d4402af1",
      "metadata": {
        "id": "d4402af1"
      },
      "source": [
        "## Solution\n",
        "\n",
        "\n",
        "### 1. State the problem clearly. Identify the input & output formats.\n",
        "\n",
        "While this problem is stated clearly enough, it's always useful to try and express in your own words, in a way that makes it most clear for you. \n",
        "\n",
        "\n",
        "**Problem**\n",
        "\n",
        "> **???** (express the problem clearly in our own words, and in absract terms\n",
        "\n",
        "<br/>\n",
        "\n",
        "\n",
        "**Input**\n",
        "\n",
        "1. **???**\n",
        "2. **???**\n",
        "\n",
        "(add more if required)\n",
        "\n",
        "\n",
        "**Output**\n",
        "\n",
        "1. **???**\n",
        "\n",
        "\n",
        "(add more if required)\n",
        "\n",
        "<br/>\n",
        "\n",
        "Based on the above, we can now create a signature of our function:"
      ]
    },
    {
      "cell_type": "code",
      "execution_count": null,
      "id": "1a3d1e0f",
      "metadata": {
        "id": "1a3d1e0f"
      },
      "outputs": [],
      "source": [
        "# Create a function signature here. The body of the function can contain a single statement: pass"
      ]
    },
    {
      "cell_type": "markdown",
      "id": "83fe9dce",
      "metadata": {
        "id": "83fe9dce"
      },
      "source": [
        "Save and upload your work before continuing."
      ]
    },
    {
      "cell_type": "code",
      "execution_count": null,
      "id": "86057aad",
      "metadata": {
        "id": "86057aad"
      },
      "outputs": [],
      "source": [
        "import jovian"
      ]
    },
    {
      "cell_type": "code",
      "execution_count": null,
      "id": "10b3027b",
      "metadata": {
        "id": "10b3027b",
        "outputId": "c1bfd8af-6ff2-4f04-a1b7-c67d5837823f"
      },
      "outputs": [
        {
          "data": {
            "application/javascript": [
              "window.require && require([\"base/js/namespace\"],function(Jupyter){Jupyter.notebook.save_checkpoint()})"
            ],
            "text/plain": [
              "<IPython.core.display.Javascript object>"
            ]
          },
          "metadata": {},
          "output_type": "display_data"
        },
        {
          "name": "stdout",
          "output_type": "stream",
          "text": [
            "[jovian] Attempting to save notebook..\u001b[0m\n"
          ]
        }
      ],
      "source": [
        "jovian.commit()"
      ]
    },
    {
      "cell_type": "markdown",
      "id": "fd0cae9e",
      "metadata": {
        "id": "fd0cae9e"
      },
      "source": [
        "### 2. Come up with some example inputs & outputs. Try to cover all edge cases.\n",
        "\n",
        "Our function should be able to handle any set of valid inputs we pass into it. Here's a list of some possible variations we might encounter:\n",
        "\n",
        "1. **???**\n",
        "2. **???**\n",
        "3. **???**\n",
        "4. **???**\n",
        "5. **???**\n",
        "\n",
        "(add more if required)\n",
        "\n",
        "\n",
        "We'll express our test cases as dictionaries, to test them easily. Each dictionary will contain 2 keys: `input` (a dictionary itself containing one key for each argument to the function and `output` (the expected result from the function). "
      ]
    },
    {
      "cell_type": "code",
      "execution_count": null,
      "id": "e7cd030a",
      "metadata": {
        "id": "e7cd030a"
      },
      "outputs": [],
      "source": [
        "test = {\n",
        "    'input': {\n",
        "        ???\n",
        "    },\n",
        "    'output': ???\n",
        "}"
      ]
    },
    {
      "cell_type": "markdown",
      "id": "5d5db88a",
      "metadata": {
        "id": "5d5db88a"
      },
      "source": [
        "Create one test case for each of the scenarios listed above. We'll store our test cases in an array called `tests`."
      ]
    },
    {
      "cell_type": "code",
      "execution_count": null,
      "id": "054469ef",
      "metadata": {
        "id": "054469ef"
      },
      "outputs": [],
      "source": [
        "tests = []"
      ]
    },
    {
      "cell_type": "code",
      "execution_count": null,
      "id": "f52a0788",
      "metadata": {
        "id": "f52a0788"
      },
      "outputs": [],
      "source": [
        "tests.append(test)"
      ]
    },
    {
      "cell_type": "code",
      "execution_count": null,
      "id": "2c06c7f4",
      "metadata": {
        "id": "2c06c7f4"
      },
      "outputs": [],
      "source": [
        "tests.append({\n",
        "    'input': {\n",
        "        ???\n",
        "    },\n",
        "    'output': ???\n",
        "})"
      ]
    },
    {
      "cell_type": "code",
      "execution_count": null,
      "id": "41d038b5",
      "metadata": {
        "id": "41d038b5"
      },
      "outputs": [],
      "source": [
        "# add more test cases"
      ]
    },
    {
      "cell_type": "code",
      "execution_count": null,
      "id": "a3716ceb",
      "metadata": {
        "id": "a3716ceb"
      },
      "outputs": [],
      "source": [
        ""
      ]
    },
    {
      "cell_type": "markdown",
      "id": "2a330d6e",
      "metadata": {
        "id": "2a330d6e"
      },
      "source": [
        "### 3. Come up with a correct solution for the problem. State it in plain English.\n",
        "\n",
        "Our first goal should always be to come up with a _correct_ solution to the problem, which may not necessarily be the most _efficient_ solution. Come with a correct solution and explain it in simple words below:\n",
        "\n",
        "1. **???**\n",
        "2. **???**\n",
        "3. **???**\n",
        "4. **???**\n",
        "5. **???**\n",
        "\n",
        "(add more steps if required)\n",
        "\n",
        "\n",
        "Let's save and upload our work before continuing.\n",
        "\n",
        "\n"
      ]
    },
    {
      "cell_type": "code",
      "execution_count": null,
      "id": "10e02855",
      "metadata": {
        "id": "10e02855",
        "outputId": "3277039e-cda1-4f4d-81d5-c0b3900de060"
      },
      "outputs": [
        {
          "data": {
            "application/javascript": [
              "window.require && require([\"base/js/namespace\"],function(Jupyter){Jupyter.notebook.save_checkpoint()})"
            ],
            "text/plain": [
              "<IPython.core.display.Javascript object>"
            ]
          },
          "metadata": {},
          "output_type": "display_data"
        },
        {
          "name": "stdout",
          "output_type": "stream",
          "text": [
            "[jovian] Attempting to save notebook..\u001b[0m\n",
            "[jovian] Updating notebook \"aakashns/python-problem-solving-template\" on https://jovian.ai/\u001b[0m\n",
            "[jovian] Uploading notebook..\u001b[0m\n",
            "[jovian] Capturing environment..\u001b[0m\n",
            "[jovian] Committed successfully! https://jovian.ai/aakashns/python-problem-solving-template\u001b[0m\n"
          ]
        },
        {
          "data": {
            "text/plain": [
              "'https://jovian.ai/aakashns/python-problem-solving-template'"
            ]
          },
          "execution_count": 18,
          "metadata": {},
          "output_type": "execute_result"
        }
      ],
      "source": [
        "jovian.commit()"
      ]
    },
    {
      "cell_type": "markdown",
      "id": "dad1b8b8",
      "metadata": {
        "id": "dad1b8b8"
      },
      "source": [
        "###  4. Implement the solution and test it using example inputs. Fix bugs, if any."
      ]
    },
    {
      "cell_type": "code",
      "execution_count": null,
      "id": "1dbcc7a0",
      "metadata": {
        "id": "1dbcc7a0"
      },
      "outputs": [],
      "source": [
        ""
      ]
    },
    {
      "cell_type": "code",
      "execution_count": null,
      "id": "c0fc37c2",
      "metadata": {
        "id": "c0fc37c2"
      },
      "outputs": [],
      "source": [
        ""
      ]
    },
    {
      "cell_type": "code",
      "execution_count": null,
      "id": "977da520",
      "metadata": {
        "id": "977da520"
      },
      "outputs": [],
      "source": [
        ""
      ]
    },
    {
      "cell_type": "code",
      "execution_count": null,
      "id": "27c62e27",
      "metadata": {
        "id": "27c62e27"
      },
      "outputs": [],
      "source": [
        ""
      ]
    },
    {
      "cell_type": "markdown",
      "id": "d39c1eaa",
      "metadata": {
        "id": "d39c1eaa"
      },
      "source": [
        "We can test the function by passing the input to it directly or by using the `evaluate_test_case` function from `jovian`."
      ]
    },
    {
      "cell_type": "code",
      "execution_count": null,
      "id": "9b9632f8",
      "metadata": {
        "id": "9b9632f8"
      },
      "outputs": [],
      "source": [
        "from jovian.pythondsa import evaluate_test_case"
      ]
    },
    {
      "cell_type": "code",
      "execution_count": null,
      "id": "76a74b34",
      "metadata": {
        "id": "76a74b34"
      },
      "outputs": [],
      "source": [
        "evaluate_test_case(???)"
      ]
    },
    {
      "cell_type": "markdown",
      "id": "d1de58d9",
      "metadata": {
        "id": "d1de58d9"
      },
      "source": [
        "Evaluate your function against all the test cases together using the `evaluate_test_cases` (plural) function from `jovian`."
      ]
    },
    {
      "cell_type": "code",
      "execution_count": null,
      "id": "b06dbea6",
      "metadata": {
        "id": "b06dbea6"
      },
      "outputs": [],
      "source": [
        "from jovian.pythondsa import evaluate_test_cases"
      ]
    },
    {
      "cell_type": "code",
      "execution_count": null,
      "id": "05893f44",
      "metadata": {
        "id": "05893f44"
      },
      "outputs": [],
      "source": [
        "evaluate_test_cases(???)"
      ]
    },
    {
      "cell_type": "markdown",
      "id": "ca6ad82d",
      "metadata": {
        "id": "ca6ad82d"
      },
      "source": [
        "Verify that all the test cases were evaluated. We expect them all to fail, since we haven't implemented the function yet.\n",
        "\n",
        "Let's save our work before continuing."
      ]
    },
    {
      "cell_type": "code",
      "execution_count": null,
      "id": "e2ab626c",
      "metadata": {
        "id": "e2ab626c",
        "outputId": "0883ea63-add3-481d-a1a0-a5dd5104daa1"
      },
      "outputs": [
        {
          "data": {
            "application/javascript": [
              "window.require && require([\"base/js/namespace\"],function(Jupyter){Jupyter.notebook.save_checkpoint()})"
            ],
            "text/plain": [
              "<IPython.core.display.Javascript object>"
            ]
          },
          "metadata": {},
          "output_type": "display_data"
        },
        {
          "name": "stdout",
          "output_type": "stream",
          "text": [
            "[jovian] Attempting to save notebook..\u001b[0m\n",
            "[jovian] Updating notebook \"aakashns/python-problem-solving-template\" on https://jovian.ai/\u001b[0m\n",
            "[jovian] Uploading notebook..\u001b[0m\n",
            "[jovian] Capturing environment..\u001b[0m\n",
            "[jovian] Committed successfully! https://jovian.ai/aakashns/python-problem-solving-template\u001b[0m\n"
          ]
        },
        {
          "data": {
            "text/plain": [
              "'https://jovian.ai/aakashns/python-problem-solving-template'"
            ]
          },
          "execution_count": 17,
          "metadata": {},
          "output_type": "execute_result"
        }
      ],
      "source": [
        "jovian.commit()"
      ]
    },
    {
      "cell_type": "code",
      "execution_count": null,
      "id": "95e68754",
      "metadata": {
        "id": "95e68754"
      },
      "outputs": [],
      "source": [
        ""
      ]
    },
    {
      "cell_type": "markdown",
      "id": "5a8f06a2",
      "metadata": {
        "id": "5a8f06a2"
      },
      "source": [
        "### 5. Analyze the algorithm's complexity and identify inefficiencies, if any."
      ]
    },
    {
      "cell_type": "code",
      "execution_count": null,
      "id": "f155fca4",
      "metadata": {
        "id": "f155fca4"
      },
      "outputs": [],
      "source": [
        ""
      ]
    },
    {
      "cell_type": "code",
      "execution_count": null,
      "id": "2a9d6573",
      "metadata": {
        "id": "2a9d6573"
      },
      "outputs": [],
      "source": [
        ""
      ]
    },
    {
      "cell_type": "code",
      "execution_count": null,
      "id": "059b7556",
      "metadata": {
        "id": "059b7556"
      },
      "outputs": [],
      "source": [
        ""
      ]
    },
    {
      "cell_type": "code",
      "execution_count": null,
      "id": "ab1efb35",
      "metadata": {
        "id": "ab1efb35",
        "outputId": "712db066-976a-4e21-f16a-6ee4b6f4a775"
      },
      "outputs": [
        {
          "data": {
            "application/javascript": [
              "window.require && require([\"base/js/namespace\"],function(Jupyter){Jupyter.notebook.save_checkpoint()})"
            ],
            "text/plain": [
              "<IPython.core.display.Javascript object>"
            ]
          },
          "metadata": {},
          "output_type": "display_data"
        },
        {
          "name": "stdout",
          "output_type": "stream",
          "text": [
            "[jovian] Attempting to save notebook..\u001b[0m\n",
            "[jovian] Updating notebook \"aakashns/python-problem-solving-template\" on https://jovian.ai/\u001b[0m\n",
            "[jovian] Uploading notebook..\u001b[0m\n",
            "[jovian] Capturing environment..\u001b[0m\n",
            "[jovian] Committed successfully! https://jovian.ai/aakashns/python-problem-solving-template\u001b[0m\n"
          ]
        },
        {
          "data": {
            "text/plain": [
              "'https://jovian.ai/aakashns/python-problem-solving-template'"
            ]
          },
          "execution_count": 21,
          "metadata": {},
          "output_type": "execute_result"
        }
      ],
      "source": [
        "jovian.commit()"
      ]
    },
    {
      "cell_type": "markdown",
      "id": "b53e5bbe",
      "metadata": {
        "id": "b53e5bbe"
      },
      "source": [
        "### 6. Apply the right technique to overcome the inefficiency. Repeat steps 3 to 6."
      ]
    },
    {
      "cell_type": "code",
      "execution_count": null,
      "id": "818fef60",
      "metadata": {
        "id": "818fef60"
      },
      "outputs": [],
      "source": [
        ""
      ]
    },
    {
      "cell_type": "code",
      "execution_count": null,
      "id": "3401ba42",
      "metadata": {
        "id": "3401ba42"
      },
      "outputs": [],
      "source": [
        ""
      ]
    },
    {
      "cell_type": "code",
      "execution_count": null,
      "id": "39c375f2",
      "metadata": {
        "id": "39c375f2",
        "outputId": "9fd17c43-3af0-4aa2-fbdc-cd85adc41351"
      },
      "outputs": [
        {
          "data": {
            "application/javascript": [
              "window.require && require([\"base/js/namespace\"],function(Jupyter){Jupyter.notebook.save_checkpoint()})"
            ],
            "text/plain": [
              "<IPython.core.display.Javascript object>"
            ]
          },
          "metadata": {},
          "output_type": "display_data"
        },
        {
          "name": "stdout",
          "output_type": "stream",
          "text": [
            "[jovian] Attempting to save notebook..\u001b[0m\n",
            "[jovian] Updating notebook \"aakashns/python-problem-solving-template\" on https://jovian.ai/\u001b[0m\n",
            "[jovian] Uploading notebook..\u001b[0m\n",
            "[jovian] Capturing environment..\u001b[0m\n",
            "[jovian] Committed successfully! https://jovian.ai/aakashns/python-problem-solving-template\u001b[0m\n"
          ]
        },
        {
          "data": {
            "text/plain": [
              "'https://jovian.ai/aakashns/python-problem-solving-template'"
            ]
          },
          "execution_count": 20,
          "metadata": {},
          "output_type": "execute_result"
        }
      ],
      "source": [
        "jovian.commit()"
      ]
    },
    {
      "cell_type": "markdown",
      "id": "f9de47f5",
      "metadata": {
        "id": "f9de47f5"
      },
      "source": [
        "### 7. Come up with a correct solution for the problem. State it in plain English.\n",
        "\n",
        "Come with the optimized correct solution and explain it in simple words below:\n",
        "\n",
        "1. **???**\n",
        "2. **???**\n",
        "3. **???**\n",
        "4. **???**\n",
        "5. **???**\n",
        "\n",
        "(add more steps if required)\n",
        "\n",
        "\n",
        "Let's save and upload our work before continuing.\n",
        "\n"
      ]
    },
    {
      "cell_type": "code",
      "execution_count": null,
      "id": "d4335cf2",
      "metadata": {
        "id": "d4335cf2",
        "outputId": "8bff062c-0e26-4b3d-88b4-d4cab662598d"
      },
      "outputs": [
        {
          "data": {
            "application/javascript": [
              "window.require && require([\"base/js/namespace\"],function(Jupyter){Jupyter.notebook.save_checkpoint()})"
            ],
            "text/plain": [
              "<IPython.core.display.Javascript object>"
            ]
          },
          "metadata": {},
          "output_type": "display_data"
        },
        {
          "name": "stdout",
          "output_type": "stream",
          "text": [
            "[jovian] Attempting to save notebook..\u001b[0m\n",
            "[jovian] Updating notebook \"aakashns/python-problem-solving-template\" on https://jovian.ai/\u001b[0m\n",
            "[jovian] Uploading notebook..\u001b[0m\n",
            "[jovian] Capturing environment..\u001b[0m\n",
            "[jovian] Committed successfully! https://jovian.ai/aakashns/python-problem-solving-template\u001b[0m\n"
          ]
        },
        {
          "data": {
            "text/plain": [
              "'https://jovian.ai/aakashns/python-problem-solving-template'"
            ]
          },
          "execution_count": 19,
          "metadata": {},
          "output_type": "execute_result"
        }
      ],
      "source": [
        "jovian.commit()"
      ]
    },
    {
      "cell_type": "code",
      "execution_count": null,
      "id": "b9460591",
      "metadata": {
        "id": "b9460591"
      },
      "outputs": [],
      "source": [
        ""
      ]
    },
    {
      "cell_type": "code",
      "execution_count": null,
      "id": "d9e51483",
      "metadata": {
        "id": "d9e51483"
      },
      "outputs": [],
      "source": [
        ""
      ]
    },
    {
      "cell_type": "code",
      "execution_count": null,
      "id": "d869c368",
      "metadata": {
        "id": "d869c368"
      },
      "outputs": [],
      "source": [
        ""
      ]
    },
    {
      "cell_type": "markdown",
      "id": "c8164095",
      "metadata": {
        "id": "c8164095"
      },
      "source": [
        "### 8. Implement the solution and test it using example inputs. Fix bugs, if any."
      ]
    },
    {
      "cell_type": "code",
      "execution_count": null,
      "id": "a8aaaf02",
      "metadata": {
        "id": "a8aaaf02"
      },
      "outputs": [],
      "source": [
        ""
      ]
    },
    {
      "cell_type": "code",
      "execution_count": null,
      "id": "c0fae608",
      "metadata": {
        "id": "c0fae608"
      },
      "outputs": [],
      "source": [
        ""
      ]
    },
    {
      "cell_type": "code",
      "execution_count": null,
      "id": "09f2bd69",
      "metadata": {
        "id": "09f2bd69"
      },
      "outputs": [],
      "source": [
        ""
      ]
    },
    {
      "cell_type": "code",
      "execution_count": null,
      "id": "84e2d826",
      "metadata": {
        "id": "84e2d826"
      },
      "outputs": [],
      "source": [
        ""
      ]
    },
    {
      "cell_type": "markdown",
      "id": "9af7e4af",
      "metadata": {
        "id": "9af7e4af"
      },
      "source": [
        "### 9. Analyze the algorithm's complexity and identify inefficiencies, if any."
      ]
    },
    {
      "cell_type": "code",
      "execution_count": null,
      "id": "032d30b9",
      "metadata": {
        "id": "032d30b9"
      },
      "outputs": [],
      "source": [
        ""
      ]
    },
    {
      "cell_type": "code",
      "execution_count": null,
      "id": "fc163bcf",
      "metadata": {
        "id": "fc163bcf"
      },
      "outputs": [],
      "source": [
        ""
      ]
    },
    {
      "cell_type": "code",
      "execution_count": null,
      "id": "b0f3e259",
      "metadata": {
        "id": "b0f3e259"
      },
      "outputs": [],
      "source": [
        ""
      ]
    },
    {
      "cell_type": "markdown",
      "id": "62c223c8",
      "metadata": {
        "id": "62c223c8"
      },
      "source": [
        "If you found the problem on an external platform, you can make a submission to test your solution.\n",
        "\n",
        "Share your approach and start a discussion on the Jovian forum: https://jovian.ai/forum/c/data-structures-and-algorithms-in-python/78"
      ]
    },
    {
      "cell_type": "code",
      "execution_count": null,
      "id": "8399018f",
      "metadata": {
        "id": "8399018f",
        "outputId": "7fcd5a29-5565-40de-a9f2-2173c573880a"
      },
      "outputs": [
        {
          "data": {
            "application/javascript": [
              "window.require && require([\"base/js/namespace\"],function(Jupyter){Jupyter.notebook.save_checkpoint()})"
            ],
            "text/plain": [
              "<IPython.core.display.Javascript object>"
            ]
          },
          "metadata": {},
          "output_type": "display_data"
        },
        {
          "name": "stdout",
          "output_type": "stream",
          "text": [
            "[jovian] Attempting to save notebook..\u001b[0m\n"
          ]
        }
      ],
      "source": [
        "jovian.commit()"
      ]
    },
    {
      "cell_type": "code",
      "execution_count": null,
      "id": "f73e7d52",
      "metadata": {
        "id": "f73e7d52"
      },
      "outputs": [],
      "source": [
        ""
      ]
    }
  ],
  "metadata": {
    "kernelspec": {
      "display_name": "Python 3",
      "language": "python",
      "name": "python3"
    },
    "language_info": {
      "codemirror_mode": {
        "name": "ipython",
        "version": 3
      },
      "file_extension": ".py",
      "mimetype": "text/x-python",
      "name": "python",
      "nbconvert_exporter": "python",
      "pygments_lexer": "ipython3",
      "version": "3.8.6"
    },
    "colab": {
      "name": "python-problem-solving-template.ipynb",
      "provenance": [],
      "include_colab_link": true
    }
  },
  "nbformat": 4,
  "nbformat_minor": 5
}