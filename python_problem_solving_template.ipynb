{
  "cells": [
    {
      "cell_type": "markdown",
      "metadata": {
        "id": "view-in-github",
        "colab_type": "text"
      },
      "source": [
        "<a href=\"https://colab.research.google.com/github/JebaBaig/DSA/blob/main/python_problem_solving_template.ipynb\" target=\"_parent\"><img src=\"https://colab.research.google.com/assets/colab-badge.svg\" alt=\"Open In Colab\"/></a>"
      ]
    },
    {
      "cell_type": "code",
      "execution_count": null,
      "id": "4c165c6f",
      "metadata": {
        "id": "4c165c6f"
      },
      "outputs": [],
      "source": [
        "# Jovian Commit Essentials\n",
        "# Please retain and execute this cell without modifying the contents for `jovian.commit` to work\n",
        "!pip install jovian --upgrade -q\n",
        "import jovian\n",
        "jovian.set_project('sorted-binary-array')\n",
        "jovian.set_colab_id('1gFRrs_eGCskTzcdVvZ6afIqycCpJFnrX')"
      ]
    },
    {
      "cell_type": "markdown",
      "id": "0360475a",
      "metadata": {
        "id": "0360475a"
      },
      "source": [
        "# Problem Solving Template (change the title)\n",
        "\n",
        "_To learn how to use this template, check out the course [\"Data Structures and Algorithms in Python\"](https://jovian.ai/learn/data-structures-and-algorithms-in-python)._\n",
        "\n",
        "\n"
      ]
    },
    {
      "cell_type": "markdown",
      "id": "798d8bbe",
      "metadata": {
        "id": "798d8bbe"
      },
      "source": [
        "## How to run the code and save your work\n",
        "\n",
        "The recommended way to run this notebook is to click the \"Run\" button at the top of this page, and select \"Run on Binder\". This will run the notebook on [mybinder.org](https://mybinder.org), a free online service for running Jupyter notebooks. \n",
        "\n",
        "This tutorial is an executable [Jupyter notebook](https://jupyter.org). You can _run_ this tutorial and experiment with the code examples in a couple of ways: *using free online resources* (recommended) or *on your computer*.\n",
        "\n",
        "#### Option 1: Running using free online resources (1-click, recommended)\n",
        "\n",
        "The easiest way to start executing the code is to click the **Run** button at the top of this page and select **Run on Binder**. You can also select \"Run on Colab\" or \"Run on Kaggle\", but you'll need to create an account on [Google Colab](https://colab.research.google.com) or [Kaggle](https://kaggle.com) to use these platforms.\n",
        "\n",
        "\n",
        "#### Option 2: Running on your computer locally\n",
        "\n",
        "To run the code on your computer locally, you'll need to set up [Python](https://www.python.org), download the notebook and install the required libraries. We recommend using the [Conda](https://docs.conda.io/projects/conda/en/latest/user-guide/install/) distribution of Python. Click the **Run** button at the top of this page, select the **Run Locally** option, and follow the instructions.\n",
        "\n",
        "#### Saving your work\n",
        "\n",
        "Before staring the assignment, let's save a snapshot of the assignment to your [Jovian](https://jovian.ai) profile, so that you can access it later, and continue your work."
      ]
    },
    {
      "cell_type": "code",
      "execution_count": null,
      "id": "9b9bb44f",
      "metadata": {
        "id": "9b9bb44f"
      },
      "outputs": [],
      "source": [
        "project_name = \"Sorted binary array\" # give it an appropriate name"
      ]
    },
    {
      "cell_type": "code",
      "execution_count": null,
      "id": "895b0d24",
      "metadata": {
        "id": "895b0d24"
      },
      "outputs": [],
      "source": [
        "!pip install jovian --upgrade --quiet"
      ]
    },
    {
      "cell_type": "code",
      "execution_count": null,
      "id": "55dbcf90",
      "metadata": {
        "id": "55dbcf90"
      },
      "outputs": [],
      "source": [
        "import jovian"
      ]
    },
    {
      "cell_type": "code",
      "execution_count": null,
      "id": "e76dfc86",
      "metadata": {
        "id": "e76dfc86",
        "outputId": "9f45880f-e619-47c6-c2ee-9d21257a74bc"
      },
      "outputs": [
        {
          "data": {
            "application/javascript": [
              "window.require && require([\"base/js/namespace\"],function(Jupyter){Jupyter.notebook.save_checkpoint()})"
            ],
            "text/plain": [
              "<IPython.core.display.Javascript object>"
            ]
          },
          "metadata": {},
          "output_type": "display_data"
        },
        {
          "name": "stdout",
          "output_type": "stream",
          "text": [
            "[jovian] Updating notebook \"jeba-baig/sorted-binary-array\" on https://jovian.ai\u001b[0m\n",
            "[jovian] Committed successfully! https://jovian.ai/jeba-baig/sorted-binary-array\u001b[0m\n"
          ]
        },
        {
          "data": {
            "text/plain": [
              "'https://jovian.ai/jeba-baig/sorted-binary-array'"
            ]
          },
          "execution_count": 4,
          "metadata": {},
          "output_type": "execute_result"
        }
      ],
      "source": [
        "jovian.commit(project=project_name)"
      ]
    },
    {
      "cell_type": "markdown",
      "id": "6642527f",
      "metadata": {
        "id": "6642527f"
      },
      "source": [
        "## Problem Statement\n",
        "\n",
        "\n",
        "> Count 1’s in a sorted binary array (past the problem statement here)\n",
        "\n",
        "\n",
        "Source: https://www.geeksforgeeks.org/count-1s-sorted-binary-array/ (link to the source)"
      ]
    },
    {
      "cell_type": "markdown",
      "id": "6fbf8153",
      "metadata": {
        "id": "6fbf8153"
      },
      "source": [
        "## The Method\n",
        "\n",
        "Here's the systematic strategy we'll apply for solving problems:\n",
        "\n",
        "1. State the problem clearly. Identify the input & output formats.\n",
        "2. Come up with some example inputs & outputs. Try to cover all edge cases.\n",
        "3. Come up with a correct solution for the problem. State it in plain English.\n",
        "4. Implement the solution and test it using example inputs. Fix bugs, if any.\n",
        "5. Analyze the algorithm's complexity and identify inefficiencies, if any.\n",
        "6. Apply the right technique to overcome the inefficiency. Repeat steps 3 to 6.\n",
        "\n",
        "This approach is explained in detail in [Lesson 1](https://jovian.ai/learn/data-structures-and-algorithms-in-python/lesson/lesson-1-binary-search-linked-lists-and-complexity) of the course. Let's apply this approach step-by-step."
      ]
    },
    {
      "cell_type": "markdown",
      "id": "acacc7b6",
      "metadata": {
        "id": "acacc7b6"
      },
      "source": [
        ""
      ]
    },
    {
      "cell_type": "markdown",
      "id": "f7a66077",
      "metadata": {
        "id": "f7a66077"
      },
      "source": [
        "## Solution\n",
        "\n",
        "\n",
        "### 1. State the problem clearly. Identify the input & output formats.\n",
        "\n",
        "While this problem is stated clearly enough, it's always useful to try and express in your own words, in a way that makes it most clear for you. \n",
        "\n",
        "\n",
        "**Problem**\n",
        "\n",
        "> *We have given a binary sorted array in descending order. So we have to calculate no of 1's in that array.\n",
        "\n",
        "<br/>\n",
        "\n",
        "\n",
        "**Input**\n",
        "\n",
        "1. arr[] = {1, 1, 0, 0, 0, 0, 0}\n",
        "\n",
        "\n",
        "(add more if required)\n",
        "\n",
        "\n",
        "**Output**\n",
        "\n",
        "1. 2\n",
        "\n",
        "\n",
        "\n",
        "(add more if required)\n",
        "\n",
        "<br/>\n",
        "\n",
        "Based on the above, we can now create a signature of our function:"
      ]
    },
    {
      "cell_type": "code",
      "execution_count": null,
      "id": "db381e13",
      "metadata": {
        "id": "db381e13"
      },
      "outputs": [],
      "source": [
        "# Create a function signature here. The body of the function can contain a single statement: pass\n",
        "def countOnes(arr,low,high):\n",
        "    pass"
      ]
    },
    {
      "cell_type": "markdown",
      "id": "a700c0ac",
      "metadata": {
        "id": "a700c0ac"
      },
      "source": [
        "Save and upload your work before continuing."
      ]
    },
    {
      "cell_type": "code",
      "execution_count": null,
      "id": "df5b7722",
      "metadata": {
        "id": "df5b7722"
      },
      "outputs": [],
      "source": [
        "import jovian"
      ]
    },
    {
      "cell_type": "code",
      "execution_count": null,
      "id": "d73c1d88",
      "metadata": {
        "id": "d73c1d88",
        "outputId": "5d0b1753-b8fd-42d4-c539-6be8ed6faaea"
      },
      "outputs": [
        {
          "data": {
            "application/javascript": [
              "window.require && require([\"base/js/namespace\"],function(Jupyter){Jupyter.notebook.save_checkpoint()})"
            ],
            "text/plain": [
              "<IPython.core.display.Javascript object>"
            ]
          },
          "metadata": {},
          "output_type": "display_data"
        },
        {
          "name": "stdout",
          "output_type": "stream",
          "text": [
            "[jovian] Updating notebook \"jeba-baig/sorted-binary-array\" on https://jovian.ai\u001b[0m\n",
            "[jovian] Committed successfully! https://jovian.ai/jeba-baig/sorted-binary-array\u001b[0m\n"
          ]
        },
        {
          "data": {
            "text/plain": [
              "'https://jovian.ai/jeba-baig/sorted-binary-array'"
            ]
          },
          "execution_count": 7,
          "metadata": {},
          "output_type": "execute_result"
        }
      ],
      "source": [
        "jovian.commit()"
      ]
    },
    {
      "cell_type": "markdown",
      "id": "84383934",
      "metadata": {
        "id": "84383934"
      },
      "source": [
        "### 2. Come up with some example inputs & outputs. Try to cover all edge cases.\n",
        "\n",
        "Our function should be able to handle any set of valid inputs we pass into it. Here's a list of some possible variations we might encounter:\n",
        "\n",
        "1. An array contains all 1's\n",
        "2. An array contains all 0's\n",
        "3. An array contains both 1's and 0's\n",
        "4. An empty array\n",
        "5. An array with single element\n",
        "\n",
        "(add more if required)\n",
        "\n",
        "\n",
        "We'll express our test cases as dictionaries, to test them easily. Each dictionary will contain 2 keys: `input` (a dictionary itself containing one key for each argument to the function and `output` (the expected result from the function). "
      ]
    },
    {
      "cell_type": "code",
      "execution_count": null,
      "id": "30ad430d",
      "metadata": {
        "id": "30ad430d"
      },
      "outputs": [],
      "source": [
        "test = {\n",
        "    'input': {\n",
        "        'arr':[1, 1, 1, 1, 1, 1, 1]\n",
        "    },\n",
        "    'output': 7\n",
        "}"
      ]
    },
    {
      "cell_type": "markdown",
      "id": "3b5e04b3",
      "metadata": {
        "id": "3b5e04b3"
      },
      "source": [
        "Create one test case for each of the scenarios listed above. We'll store our test cases in an array called `tests`."
      ]
    },
    {
      "cell_type": "code",
      "execution_count": null,
      "id": "77350d88",
      "metadata": {
        "id": "77350d88"
      },
      "outputs": [],
      "source": [
        "tests = []"
      ]
    },
    {
      "cell_type": "code",
      "execution_count": null,
      "id": "3241902a",
      "metadata": {
        "id": "3241902a"
      },
      "outputs": [],
      "source": [
        "tests.append(test)"
      ]
    },
    {
      "cell_type": "code",
      "execution_count": null,
      "id": "84f5c07d",
      "metadata": {
        "id": "84f5c07d"
      },
      "outputs": [],
      "source": [
        "tests.append({\n",
        "    'input': {\n",
        "        'arr':[0, 0, 0, 0, 0, 0, 0]\n",
        "    },\n",
        "    'output': 0\n",
        "})\n",
        "\n",
        "tests.append({\n",
        "    'input': {\n",
        "        'arr':[1, 1, 0, 0, 0, 0, 0]\n",
        "    },\n",
        "    'output': 2\n",
        "})\n",
        "\n"
      ]
    },
    {
      "cell_type": "code",
      "execution_count": null,
      "id": "7ff7ae2e",
      "metadata": {
        "id": "7ff7ae2e"
      },
      "outputs": [],
      "source": [
        "# add more test cases"
      ]
    },
    {
      "cell_type": "code",
      "execution_count": null,
      "id": "34a40b2a",
      "metadata": {
        "id": "34a40b2a"
      },
      "outputs": [],
      "source": [
        ""
      ]
    },
    {
      "cell_type": "markdown",
      "id": "00bcb935",
      "metadata": {
        "id": "00bcb935"
      },
      "source": [
        "### 3. Come up with a correct solution for the problem. State it in plain English.\n",
        "\n",
        "Our first goal should always be to come up with a _correct_ solution to the problem, which may not necessarily be the most _efficient_ solution. Come with a correct solution and explain it in simple words below:\n",
        "\n",
        "1. Check whether an array is empty or not.\n",
        "2. If not empty go inside if else return 0.\n",
        "3. Calculate middle value and index and check if the element at middle index is last 1, true return mid+1\n",
        "4. If element is not last 1, recur for right side\n",
        "5. else recur for left side\n",
        "\n",
        "(add more steps if required)\n",
        "\n",
        "\n",
        "Let's save and upload our work before continuing.\n",
        "\n",
        "\n"
      ]
    },
    {
      "cell_type": "code",
      "execution_count": null,
      "id": "8799a1a5",
      "metadata": {
        "id": "8799a1a5",
        "outputId": "4364fabc-6972-4a82-d704-fdc2403e3173"
      },
      "outputs": [
        {
          "data": {
            "application/javascript": [
              "window.require && require([\"base/js/namespace\"],function(Jupyter){Jupyter.notebook.save_checkpoint()})"
            ],
            "text/plain": [
              "<IPython.core.display.Javascript object>"
            ]
          },
          "metadata": {},
          "output_type": "display_data"
        },
        {
          "name": "stdout",
          "output_type": "stream",
          "text": [
            "[jovian] Updating notebook \"jeba-baig/sorted-binary-array\" on https://jovian.ai\u001b[0m\n",
            "[jovian] Committed successfully! https://jovian.ai/jeba-baig/sorted-binary-array\u001b[0m\n"
          ]
        },
        {
          "data": {
            "text/plain": [
              "'https://jovian.ai/jeba-baig/sorted-binary-array'"
            ]
          },
          "execution_count": 46,
          "metadata": {},
          "output_type": "execute_result"
        }
      ],
      "source": [
        "jovian.commit()"
      ]
    },
    {
      "cell_type": "markdown",
      "id": "28815971",
      "metadata": {
        "id": "28815971"
      },
      "source": [
        "###  4. Implement the solution and test it using example inputs. Fix bugs, if any."
      ]
    },
    {
      "cell_type": "code",
      "execution_count": null,
      "id": "c733440a",
      "metadata": {
        "id": "c733440a"
      },
      "outputs": [],
      "source": [
        "def countOnes(arr,low=0,high=len(arr)-1):\n",
        "   \n",
        "    \n",
        "     \n",
        "    if high>=low:\n",
        "         \n",
        "        # get the middle index\n",
        "        mid = low + (high-low)//2\n",
        "         \n",
        "        # check if the element at middle index is last 1\n",
        "        if ((mid == high or arr[mid+1]==0) and (arr[mid]==1)):\n",
        "            return mid+1\n",
        "             \n",
        "        # If element is not last 1, recur for right side\n",
        "        if arr[mid]==1:\n",
        "            return countOnes(arr, (mid+1), high)\n",
        "             \n",
        "        # else recur for left side\n",
        "        return countOnes(arr, low, mid-1)\n",
        "     \n",
        "    return 0\n",
        " \n",
        "# # Driver Code\n",
        "# arr=[1, 1, 1, 1, 0, 0, 0]\n",
        "# print (\"Count of 1's in given array is\",countOnes(arr, 0 , len(arr)-1))"
      ]
    },
    {
      "cell_type": "code",
      "execution_count": null,
      "id": "9af60895",
      "metadata": {
        "id": "9af60895"
      },
      "outputs": [],
      "source": [
        ""
      ]
    },
    {
      "cell_type": "code",
      "execution_count": null,
      "id": "96087fd4",
      "metadata": {
        "id": "96087fd4"
      },
      "outputs": [],
      "source": [
        ""
      ]
    },
    {
      "cell_type": "code",
      "execution_count": null,
      "id": "01ed1a9e",
      "metadata": {
        "id": "01ed1a9e"
      },
      "outputs": [],
      "source": [
        ""
      ]
    },
    {
      "cell_type": "markdown",
      "id": "f24fcf30",
      "metadata": {
        "id": "f24fcf30"
      },
      "source": [
        "We can test the function by passing the input to it directly or by using the `evaluate_test_case` function from `jovian`."
      ]
    },
    {
      "cell_type": "code",
      "execution_count": null,
      "id": "2f173f42",
      "metadata": {
        "id": "2f173f42"
      },
      "outputs": [],
      "source": [
        "from jovian.pythondsa import evaluate_test_case"
      ]
    },
    {
      "cell_type": "code",
      "execution_count": null,
      "id": "e20494a9",
      "metadata": {
        "id": "e20494a9",
        "outputId": "6b44e46f-d1f0-4662-f8ad-b850b29d0251"
      },
      "outputs": [
        {
          "name": "stdout",
          "output_type": "stream",
          "text": [
            "\n",
            "Input:\n",
            "{'arr': [1, 1, 1, 1, 1, 1, 1]}\n",
            "\n",
            "Expected Output:\n",
            "7\n",
            "\n",
            "\n",
            "Actual Output:\n",
            "7\n",
            "\n",
            "Execution Time:\n",
            "0.007 ms\n",
            "\n",
            "Test Result:\n",
            "\u001b[92mPASSED\u001b[0m\n",
            "\n"
          ]
        },
        {
          "data": {
            "text/plain": [
              "(7, True, 0.007)"
            ]
          },
          "execution_count": 49,
          "metadata": {},
          "output_type": "execute_result"
        }
      ],
      "source": [
        "evaluate_test_case(countOnes,test)"
      ]
    },
    {
      "cell_type": "markdown",
      "id": "47d5a83a",
      "metadata": {
        "id": "47d5a83a"
      },
      "source": [
        "Evaluate your function against all the test cases together using the `evaluate_test_cases` (plural) function from `jovian`."
      ]
    },
    {
      "cell_type": "code",
      "execution_count": null,
      "id": "22d4a9ba",
      "metadata": {
        "id": "22d4a9ba"
      },
      "outputs": [],
      "source": [
        "from jovian.pythondsa import evaluate_test_cases"
      ]
    },
    {
      "cell_type": "code",
      "execution_count": null,
      "id": "e45c0cf2",
      "metadata": {
        "id": "e45c0cf2",
        "outputId": "6aa0ca88-365e-45bc-f1ae-fe108a8d9f1f"
      },
      "outputs": [
        {
          "name": "stdout",
          "output_type": "stream",
          "text": [
            "\n",
            "\u001b[1mTEST CASE #0\u001b[0m\n",
            "\n",
            "Input:\n",
            "{'arr': [1, 1, 1, 1, 1, 1, 1]}\n",
            "\n",
            "Expected Output:\n",
            "7\n",
            "\n",
            "\n",
            "Actual Output:\n",
            "7\n",
            "\n",
            "Execution Time:\n",
            "0.007 ms\n",
            "\n",
            "Test Result:\n",
            "\u001b[92mPASSED\u001b[0m\n",
            "\n",
            "\n",
            "\u001b[1mTEST CASE #1\u001b[0m\n",
            "\n",
            "Input:\n",
            "{'arr': [0, 0, 0, 0, 0, 0, 0]}\n",
            "\n",
            "Expected Output:\n",
            "0\n",
            "\n",
            "\n",
            "Actual Output:\n",
            "0\n",
            "\n",
            "Execution Time:\n",
            "0.006 ms\n",
            "\n",
            "Test Result:\n",
            "\u001b[92mPASSED\u001b[0m\n",
            "\n",
            "\n",
            "\u001b[1mTEST CASE #2\u001b[0m\n",
            "\n",
            "Input:\n",
            "{'arr': [1, 1, 0, 0, 0, 0, 0]}\n",
            "\n",
            "Expected Output:\n",
            "2\n",
            "\n",
            "\n",
            "Actual Output:\n",
            "2\n",
            "\n",
            "Execution Time:\n",
            "0.005 ms\n",
            "\n",
            "Test Result:\n",
            "\u001b[92mPASSED\u001b[0m\n",
            "\n",
            "\n",
            "\u001b[1mSUMMARY\u001b[0m\n",
            "\n",
            "TOTAL: 3, \u001b[92mPASSED\u001b[0m: 3, \u001b[91mFAILED\u001b[0m: 0\n"
          ]
        },
        {
          "data": {
            "text/plain": [
              "[(7, True, 0.007), (0, True, 0.006), (2, True, 0.005)]"
            ]
          },
          "execution_count": 51,
          "metadata": {},
          "output_type": "execute_result"
        }
      ],
      "source": [
        "evaluate_test_cases(countOnes,tests)"
      ]
    },
    {
      "cell_type": "markdown",
      "id": "eec777b5",
      "metadata": {
        "id": "eec777b5"
      },
      "source": [
        "Verify that all the test cases were evaluated. We expect them all to fail, since we haven't implemented the function yet.\n",
        "\n",
        "Let's save our work before continuing."
      ]
    },
    {
      "cell_type": "code",
      "execution_count": null,
      "id": "02c002ed",
      "metadata": {
        "id": "02c002ed",
        "outputId": "bea1fe13-51be-450f-95c7-514ed6cc3f9f"
      },
      "outputs": [
        {
          "data": {
            "application/javascript": [
              "window.require && require([\"base/js/namespace\"],function(Jupyter){Jupyter.notebook.save_checkpoint()})"
            ],
            "text/plain": [
              "<IPython.core.display.Javascript object>"
            ]
          },
          "metadata": {},
          "output_type": "display_data"
        },
        {
          "name": "stdout",
          "output_type": "stream",
          "text": [
            "[jovian] Updating notebook \"jeba-baig/sorted-binary-array\" on https://jovian.ai\u001b[0m\n",
            "[jovian] Committed successfully! https://jovian.ai/jeba-baig/sorted-binary-array\u001b[0m\n"
          ]
        },
        {
          "data": {
            "text/plain": [
              "'https://jovian.ai/jeba-baig/sorted-binary-array'"
            ]
          },
          "execution_count": 52,
          "metadata": {},
          "output_type": "execute_result"
        }
      ],
      "source": [
        "jovian.commit()"
      ]
    },
    {
      "cell_type": "code",
      "execution_count": null,
      "id": "9af7ee6b",
      "metadata": {
        "id": "9af7ee6b"
      },
      "outputs": [],
      "source": [
        ""
      ]
    },
    {
      "cell_type": "markdown",
      "id": "80c60c53",
      "metadata": {
        "id": "80c60c53"
      },
      "source": [
        "### 5. Analyze the algorithm's complexity and identify inefficiencies, if any."
      ]
    },
    {
      "cell_type": "code",
      "execution_count": null,
      "id": "b3064162",
      "metadata": {
        "id": "b3064162"
      },
      "outputs": [],
      "source": [
        "# Time complexity of the above solution is O(Logn)\n",
        "\n",
        "# Space complexity o(log n) "
      ]
    },
    {
      "cell_type": "code",
      "execution_count": null,
      "id": "53742d66",
      "metadata": {
        "id": "53742d66"
      },
      "outputs": [],
      "source": [
        ""
      ]
    },
    {
      "cell_type": "code",
      "execution_count": null,
      "id": "5040bb3f",
      "metadata": {
        "id": "5040bb3f"
      },
      "outputs": [],
      "source": [
        ""
      ]
    },
    {
      "cell_type": "code",
      "execution_count": null,
      "id": "8f507118",
      "metadata": {
        "id": "8f507118",
        "outputId": "be6f6997-a24a-4d82-f491-58201c52db75"
      },
      "outputs": [
        {
          "data": {
            "application/javascript": [
              "window.require && require([\"base/js/namespace\"],function(Jupyter){Jupyter.notebook.save_checkpoint()})"
            ],
            "text/plain": [
              "<IPython.core.display.Javascript object>"
            ]
          },
          "metadata": {},
          "output_type": "display_data"
        },
        {
          "name": "stdout",
          "output_type": "stream",
          "text": [
            "[jovian] Updating notebook \"jeba-baig/sorted-binary-array\" on https://jovian.ai\u001b[0m\n",
            "[jovian] Committed successfully! https://jovian.ai/jeba-baig/sorted-binary-array\u001b[0m\n"
          ]
        },
        {
          "data": {
            "text/plain": [
              "'https://jovian.ai/jeba-baig/sorted-binary-array'"
            ]
          },
          "execution_count": 55,
          "metadata": {},
          "output_type": "execute_result"
        }
      ],
      "source": [
        "jovian.commit()"
      ]
    },
    {
      "cell_type": "markdown",
      "id": "98ea957d",
      "metadata": {
        "id": "98ea957d"
      },
      "source": [
        "### 6. Apply the right technique to overcome the inefficiency. Repeat steps 3 to 6."
      ]
    },
    {
      "cell_type": "code",
      "execution_count": null,
      "id": "55bbc12d",
      "metadata": {
        "id": "55bbc12d"
      },
      "outputs": [],
      "source": [
        "# Change the approach with iterative solution."
      ]
    },
    {
      "cell_type": "code",
      "execution_count": null,
      "id": "1be384fd",
      "metadata": {
        "id": "1be384fd"
      },
      "outputs": [],
      "source": [
        ""
      ]
    },
    {
      "cell_type": "code",
      "execution_count": null,
      "id": "74eede7f",
      "metadata": {
        "id": "74eede7f",
        "outputId": "1190b92b-eabc-4896-a087-8fa274bbc3b4"
      },
      "outputs": [
        {
          "data": {
            "application/javascript": [
              "window.require && require([\"base/js/namespace\"],function(Jupyter){Jupyter.notebook.save_checkpoint()})"
            ],
            "text/plain": [
              "<IPython.core.display.Javascript object>"
            ]
          },
          "metadata": {},
          "output_type": "display_data"
        },
        {
          "name": "stdout",
          "output_type": "stream",
          "text": [
            "[jovian] Updating notebook \"jeba-baig/sorted-binary-array\" on https://jovian.ai\u001b[0m\n",
            "[jovian] Committed successfully! https://jovian.ai/jeba-baig/sorted-binary-array\u001b[0m\n"
          ]
        },
        {
          "data": {
            "text/plain": [
              "'https://jovian.ai/jeba-baig/sorted-binary-array'"
            ]
          },
          "execution_count": 59,
          "metadata": {},
          "output_type": "execute_result"
        }
      ],
      "source": [
        "jovian.commit()"
      ]
    },
    {
      "cell_type": "markdown",
      "id": "efd525ab",
      "metadata": {
        "id": "efd525ab"
      },
      "source": [
        "### 7. Come up with a correct solution for the problem. State it in plain English.\n",
        "\n",
        "Come with the optimized correct solution and explain it in simple words below:\n",
        "\n",
        "1. Check whether an array is empty or not.\n",
        "2. If not empty go inside if else return 0.\n",
        "3. Calculate middle value and index and check if the element at middle index is last 1, true return mid+1\n",
        "4. If element is not last 1, recur for right side\n",
        "5. check if the element at middle index is last 1\n",
        "6. else recur for left side\n",
        " \n",
        "(add more steps if required)\n",
        "\n",
        "\n",
        "Let's save and upload our work before continuing.\n",
        "\n"
      ]
    },
    {
      "cell_type": "code",
      "execution_count": null,
      "id": "bf2ad06d",
      "metadata": {
        "id": "bf2ad06d",
        "outputId": "9fc0a55a-ad47-4bf0-9537-0312d6482c5f"
      },
      "outputs": [
        {
          "data": {
            "application/javascript": [
              "window.require && require([\"base/js/namespace\"],function(Jupyter){Jupyter.notebook.save_checkpoint()})"
            ],
            "text/plain": [
              "<IPython.core.display.Javascript object>"
            ]
          },
          "metadata": {},
          "output_type": "display_data"
        }
      ],
      "source": [
        "jovian.commit()"
      ]
    },
    {
      "cell_type": "code",
      "execution_count": null,
      "id": "25a99386",
      "metadata": {
        "id": "25a99386"
      },
      "outputs": [],
      "source": [
        ""
      ]
    },
    {
      "cell_type": "code",
      "execution_count": null,
      "id": "1d52d77e",
      "metadata": {
        "id": "1d52d77e"
      },
      "outputs": [],
      "source": [
        ""
      ]
    },
    {
      "cell_type": "code",
      "execution_count": null,
      "id": "cdfd104c",
      "metadata": {
        "id": "cdfd104c"
      },
      "outputs": [],
      "source": [
        ""
      ]
    },
    {
      "cell_type": "markdown",
      "id": "85323956",
      "metadata": {
        "id": "85323956"
      },
      "source": [
        "### 8. Implement the solution and test it using example inputs. Fix bugs, if any."
      ]
    },
    {
      "cell_type": "code",
      "execution_count": null,
      "id": "81a7d6bb",
      "metadata": {
        "id": "81a7d6bb"
      },
      "outputs": [],
      "source": [
        "def countOnes(arr, n):\n",
        "    low = 0\n",
        "    high = n - 1\n",
        "    while (low <= high): # get the middle index\n",
        "        mid = (low + high) // 2\n",
        " \n",
        "        # else recur for left side\n",
        "        if (arr[mid] < 1):\n",
        "            high = mid - 1\n",
        " \n",
        "        # If element is not last 1, recur for right side\n",
        "        elif(arr[mid] > 1):\n",
        "            low = mid + 1\n",
        "        else:\n",
        " \n",
        "        # check if the element at middle index is last 1\n",
        "            if (mid == n - 1 or arr[mid + 1] != 1):\n",
        "                return mid + 1\n",
        "            else:\n",
        "                low = mid + 1\n",
        "         \n",
        "    return 0"
      ]
    },
    {
      "cell_type": "code",
      "execution_count": null,
      "id": "71f78fc1",
      "metadata": {
        "id": "71f78fc1"
      },
      "outputs": [],
      "source": [
        ""
      ]
    },
    {
      "cell_type": "code",
      "execution_count": null,
      "id": "52400c16",
      "metadata": {
        "id": "52400c16"
      },
      "outputs": [],
      "source": [
        ""
      ]
    },
    {
      "cell_type": "code",
      "execution_count": null,
      "id": "264905d4",
      "metadata": {
        "id": "264905d4"
      },
      "outputs": [],
      "source": [
        ""
      ]
    },
    {
      "cell_type": "markdown",
      "id": "76bf0133",
      "metadata": {
        "id": "76bf0133"
      },
      "source": [
        "### 9. Analyze the algorithm's complexity and identify inefficiencies, if any."
      ]
    },
    {
      "cell_type": "code",
      "execution_count": null,
      "id": "9238903e",
      "metadata": {
        "id": "9238903e"
      },
      "outputs": [],
      "source": [
        "Time complexity of the above solution is O(Logn)\n",
        "\n",
        "Space complexity is O(1)"
      ]
    },
    {
      "cell_type": "code",
      "execution_count": null,
      "id": "75c316e2",
      "metadata": {
        "id": "75c316e2"
      },
      "outputs": [],
      "source": [
        ""
      ]
    },
    {
      "cell_type": "code",
      "execution_count": null,
      "id": "66aabfb7",
      "metadata": {
        "id": "66aabfb7"
      },
      "outputs": [],
      "source": [
        ""
      ]
    },
    {
      "cell_type": "markdown",
      "id": "53848082",
      "metadata": {
        "id": "53848082"
      },
      "source": [
        "If you found the problem on an external platform, you can make a submission to test your solution.\n",
        "\n",
        "Share your approach and start a discussion on the Jovian forum: https://jovian.ai/forum/c/data-structures-and-algorithms-in-python/78"
      ]
    },
    {
      "cell_type": "code",
      "execution_count": null,
      "id": "245fe194",
      "metadata": {
        "id": "245fe194",
        "outputId": "df84a442-bd1e-4b03-e480-3cbfc50d7895"
      },
      "outputs": [
        {
          "data": {
            "application/javascript": [
              "window.require && require([\"base/js/namespace\"],function(Jupyter){Jupyter.notebook.save_checkpoint()})"
            ],
            "text/plain": [
              "<IPython.core.display.Javascript object>"
            ]
          },
          "metadata": {},
          "output_type": "display_data"
        },
        {
          "name": "stdout",
          "output_type": "stream",
          "text": [
            "[jovian] Updating notebook \"jeba-baig/sorted-binary-array\" on https://jovian.ai\u001b[0m\n",
            "[jovian] Committed successfully! https://jovian.ai/jeba-baig/sorted-binary-array\u001b[0m\n"
          ]
        },
        {
          "data": {
            "text/plain": [
              "'https://jovian.ai/jeba-baig/sorted-binary-array'"
            ]
          },
          "execution_count": 56,
          "metadata": {},
          "output_type": "execute_result"
        }
      ],
      "source": [
        "jovian.commit()"
      ]
    },
    {
      "cell_type": "code",
      "execution_count": null,
      "id": "df2e5ed1",
      "metadata": {
        "id": "df2e5ed1"
      },
      "outputs": [],
      "source": [
        ""
      ]
    }
  ],
  "metadata": {
    "kernelspec": {
      "display_name": "Python 3 (ipykernel)",
      "language": "python",
      "name": "python3"
    },
    "language_info": {
      "codemirror_mode": {
        "name": "ipython",
        "version": 3
      },
      "file_extension": ".py",
      "mimetype": "text/x-python",
      "name": "python",
      "nbconvert_exporter": "python",
      "pygments_lexer": "ipython3",
      "version": "3.9.6"
    },
    "colab": {
      "name": "python-problem-solving-template.ipynb",
      "provenance": [],
      "include_colab_link": true
    }
  },
  "nbformat": 4,
  "nbformat_minor": 5
}